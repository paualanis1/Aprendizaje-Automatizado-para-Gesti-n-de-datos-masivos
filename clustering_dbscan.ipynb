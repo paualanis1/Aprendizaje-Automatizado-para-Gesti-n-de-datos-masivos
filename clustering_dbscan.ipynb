{
 "cells": [
  {
   "cell_type": "code",
   "execution_count": 2,
   "metadata": {},
   "outputs": [
    {
     "ename": "NameError",
     "evalue": "name 'NearestNeighbors' is not defined",
     "output_type": "error",
     "traceback": [
      "\u001b[1;31m---------------------------------------------------------------------------\u001b[0m",
      "\u001b[1;31mNameError\u001b[0m                                 Traceback (most recent call last)",
      "Cell \u001b[1;32mIn[2], line 12\u001b[0m\n\u001b[0;32m      9\u001b[0m X_scaled \u001b[38;5;241m=\u001b[39m StandardScaler()\u001b[38;5;241m.\u001b[39mfit_transform(X)\n\u001b[0;32m     11\u001b[0m \u001b[38;5;66;03m# Calcular distancias k-vecinas más cercanas\u001b[39;00m\n\u001b[1;32m---> 12\u001b[0m neighbors \u001b[38;5;241m=\u001b[39m \u001b[43mNearestNeighbors\u001b[49m(n_neighbors\u001b[38;5;241m=\u001b[39m\u001b[38;5;241m5\u001b[39m)\n\u001b[0;32m     13\u001b[0m neighbors_fit \u001b[38;5;241m=\u001b[39m neighbors\u001b[38;5;241m.\u001b[39mfit(X_scaled)\n\u001b[0;32m     14\u001b[0m distances, indices \u001b[38;5;241m=\u001b[39m neighbors_fit\u001b[38;5;241m.\u001b[39mkneighbors(X_scaled)\n",
      "\u001b[1;31mNameError\u001b[0m: name 'NearestNeighbors' is not defined"
     ]
    }
   ],
   "source": [
    "import pandas as pd\n",
    "from sklearn.cluster import DBSCAN\n",
    "from sklearn.preprocessing import StandardScaler\n",
    "import matplotlib.pyplot as plt\n",
    "from sklearn.datasets import make_blobs\n",
    "from sklearn.neighbors import NearestNeighbors\n",
    "\n",
    "# Datos de ejemplo\n",
    "X, _ = make_blobs(n_samples=300, centers=4, cluster_std=0.60, random_state=0)\n",
    "X_scaled = StandardScaler().fit_transform(X)\n",
    "\n",
    "# Calcular distancias k-vecinas más cercanas\n",
    "neighbors = NearestNeighbors(n_neighbors=5)\n",
    "neighbors_fit = neighbors.fit(X_scaled)\n",
    "distances, indices = neighbors_fit.kneighbors(X_scaled)\n",
    "\n",
    "# Distancia de la k-ésima vecindad más cercana\n",
    "distances = np.sort(distances[:, 4], axis=0)\n",
    "\n",
    "plt.plot(distances)\n",
    "plt.title('Método del K-distancia')\n",
    "plt.xlabel('Índice')\n",
    "plt.ylabel('Distancia')\n",
    "plt.show()\n"
   ]
  },
  {
   "cell_type": "code",
   "execution_count": null,
   "metadata": {},
   "outputs": [],
   "source": [
    "# Aplicar DBSCAN\n",
    "dbscan = DBSCAN(eps=0.5, min_samples=2)\n",
    "clusters = dbscan.fit_predict(X_scaled)\n",
    "\n",
    "# Visualización\n",
    "plt.scatter(X_scaled[:, 0], X_scaled[:, 1], c=clusters, cmap='Paired', marker='o')\n",
    "plt.title('Clustering con DBSCAN')\n",
    "plt.xlabel('Feature 1')\n",
    "plt.ylabel('Feature 2')\n",
    "plt.show()"
   ]
  }
 ],
 "metadata": {
  "kernelspec": {
   "display_name": "Python 3",
   "language": "python",
   "name": "python3"
  },
  "language_info": {
   "codemirror_mode": {
    "name": "ipython",
    "version": 3
   },
   "file_extension": ".py",
   "mimetype": "text/x-python",
   "name": "python",
   "nbconvert_exporter": "python",
   "pygments_lexer": "ipython3",
   "version": "3.12.4"
  }
 },
 "nbformat": 4,
 "nbformat_minor": 2
}
